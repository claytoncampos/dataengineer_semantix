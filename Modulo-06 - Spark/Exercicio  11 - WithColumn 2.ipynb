{
 "cells": [
  {
   "cell_type": "markdown",
   "metadata": {},
   "source": [
    "### Exercicio de WithColumn 2\n"
   ]
  },
  {
   "cell_type": "markdown",
   "metadata": {},
   "source": [
    "1. Criar um dataframe para ler o arquivo no HDFS /user/<nome/data/juros_selic/juros_selic"
   ]
  },
  {
   "cell_type": "code",
   "execution_count": 25,
   "metadata": {},
   "outputs": [],
   "source": [
    "from pyspark.sql.functions import *\n",
    "from pyspark.sql.types import *"
   ]
  },
  {
   "cell_type": "code",
   "execution_count": 17,
   "metadata": {},
   "outputs": [
    {
     "name": "stdout",
     "output_type": "stream",
     "text": [
      "-rw-r--r--   3 root supergroup       7954 2022-04-05 16:11 /user/clayton/data/juros_selic/juros_selic\r\n"
     ]
    }
   ],
   "source": [
    "!hdfs dfs -ls /user/clayton/data/juros_selic/juros_selic"
   ]
  },
  {
   "cell_type": "markdown",
   "metadata": {},
   "source": [
    "1. Criar um dataframe para ler o arquivo no HDFS /user/<nome/data/juros_selic/juros_selic"
   ]
  },
  {
   "cell_type": "code",
   "execution_count": 20,
   "metadata": {},
   "outputs": [
    {
     "name": "stdout",
     "output_type": "stream",
     "text": [
      "+----------+-----+\n",
      "|      data|valor|\n",
      "+----------+-----+\n",
      "|01/06/1986| 1,27|\n",
      "|01/07/1986| 1,95|\n",
      "+----------+-----+\n",
      "only showing top 2 rows\n",
      "\n"
     ]
    }
   ],
   "source": [
    "df_juros_selic = spark.read.csv(\"/user/clayton/data/juros_selic/juros_selic\", header=\"true\", sep=\";\")\n",
    "df_juros_selic.show(2)"
   ]
  },
  {
   "cell_type": "code",
   "execution_count": 29,
   "metadata": {},
   "outputs": [],
   "source": [
    "df_juros_ano = df_juros_selic.withColumn(\"ano\", split(col(\"data\"),\"/\").getItem(2))\n",
    "#convertendo para float p poder fazer a soma\n",
    "df_juros_valor = df_juros_ano.withColumn(\"valor\", regexp_replace(col(\"valor\"),\"\\,\",\"\\.\").cast(FloatType()))\n"
   ]
  },
  {
   "cell_type": "code",
   "execution_count": 30,
   "metadata": {},
   "outputs": [
    {
     "name": "stdout",
     "output_type": "stream",
     "text": [
      "root\n",
      " |-- data: string (nullable = true)\n",
      " |-- valor: float (nullable = true)\n",
      " |-- ano: string (nullable = true)\n",
      "\n"
     ]
    }
   ],
   "source": [
    "df_juros_valor.printSchema()"
   ]
  },
  {
   "cell_type": "markdown",
   "metadata": {},
   "source": [
    "2. Agrupar todas as datas pelo ano em ordem decrescente e salvar a quantidade de meses ocorridos, o valor médio, mínimo e máximo do campo valor com a seguinte estrutura:"
   ]
  },
  {
   "cell_type": "code",
   "execution_count": 42,
   "metadata": {},
   "outputs": [],
   "source": [
    "juros_relatorio = df_juros_valor.groupBy(\"ano\").agg(count(\"ano\").alias(\"Meses\"),format_number(avg(\"valor\"),2).alias(\"Valor médio\"), min(\"valor\").alias(\"Valor Minimo\"), max(\"valor\").alias(\"Valor Máximo\")).sort(desc(\"ano\"))"
   ]
  },
  {
   "cell_type": "markdown",
   "metadata": {},
   "source": [
    "\n"
   ]
  },
  {
   "cell_type": "markdown",
   "metadata": {},
   "source": [
    "3. Salvar no hdfs:///user/<nome>/relatorioAnual com compressão zlib e formato orc\n"
   ]
  },
  {
   "cell_type": "code",
   "execution_count": 98,
   "metadata": {},
   "outputs": [],
   "source": [
    "juros_relatorio.write.orc(\"/user/clayton/relatorioAnualParticionado\",partitionBy=\"ano\",compression=\"zlib\")"
   ]
  },
  {
   "cell_type": "code",
   "execution_count": 116,
   "metadata": {},
   "outputs": [
    {
     "name": "stdout",
     "output_type": "stream",
     "text": [
      "drwxr-xr-x   - root supergroup          0 2022-04-07 19:28 /user/clayton/relatorioAnualParticionado/ano=2018\r\n"
     ]
    }
   ],
   "source": [
    "!hdfs dfs -ls /user/clayton/relatorioAnualParticionado | grep 2018"
   ]
  },
  {
   "cell_type": "code",
   "execution_count": 101,
   "metadata": {},
   "outputs": [],
   "source": [
    "juros_renamed = juros_relatorio.withColumnRenamed(\"Valor médio\", \"valor_medio\").withColumnRenamed(\"Valor Máximo\",\"valor_maximo\").withColumnRenamed(\"Valor Minimo\",\"valor_minimo\")\n"
   ]
  },
  {
   "cell_type": "code",
   "execution_count": 103,
   "metadata": {},
   "outputs": [],
   "source": [
    "juros_renamed.write.saveAsTable(\"relatorioAnualParticionado\",partitionBy=\"ano\", mode=\"Overwrite\")"
   ]
  },
  {
   "cell_type": "code",
   "execution_count": 104,
   "metadata": {},
   "outputs": [
    {
     "data": {
      "text/plain": [
       "DataFrame[Meses: bigint, valor_medio: string, valor_minimo: float, valor_maximo: float, ano: string]"
      ]
     },
     "execution_count": 104,
     "metadata": {},
     "output_type": "execute_result"
    }
   ],
   "source": [
    "spark.read.table(\"relatorioAnualParticionado\")"
   ]
  },
  {
   "cell_type": "code",
   "execution_count": 105,
   "metadata": {},
   "outputs": [
    {
     "name": "stdout",
     "output_type": "stream",
     "text": [
      "+-----+-----------+------------+------------+----+\n",
      "|Meses|valor_medio|valor_minimo|valor_maximo| ano|\n",
      "+-----+-----------+------------+------------+----+\n",
      "|   12|       0.52|        0.47|        0.58|2018|\n",
      "+-----+-----------+------------+------------+----+\n",
      "\n"
     ]
    }
   ],
   "source": [
    "spark.sql(\"select * from relatorioAnualParticionado where ano = 2018\").show()"
   ]
  },
  {
   "cell_type": "code",
   "execution_count": 109,
   "metadata": {},
   "outputs": [
    {
     "name": "stdout",
     "output_type": "stream",
     "text": [
      "Found 35 items\r\n",
      "-rw-r--r--   2 root supergroup          0 2022-04-07 19:30 /user/hive/warehouse/relatorioanualparticionado/_SUCCESS\r\n",
      "drwxr-xr-x   - root supergroup          0 2022-04-07 19:30 /user/hive/warehouse/relatorioanualparticionado/ano=1986\r\n",
      "drwxr-xr-x   - root supergroup          0 2022-04-07 19:30 /user/hive/warehouse/relatorioanualparticionado/ano=1987\r\n",
      "drwxr-xr-x   - root supergroup          0 2022-04-07 19:30 /user/hive/warehouse/relatorioanualparticionado/ano=1988\r\n",
      "drwxr-xr-x   - root supergroup          0 2022-04-07 19:30 /user/hive/warehouse/relatorioanualparticionado/ano=1989\r\n",
      "drwxr-xr-x   - root supergroup          0 2022-04-07 19:30 /user/hive/warehouse/relatorioanualparticionado/ano=1990\r\n",
      "drwxr-xr-x   - root supergroup          0 2022-04-07 19:30 /user/hive/warehouse/relatorioanualparticionado/ano=1991\r\n",
      "drwxr-xr-x   - root supergroup          0 2022-04-07 19:30 /user/hive/warehouse/relatorioanualparticionado/ano=1992\r\n",
      "drwxr-xr-x   - root supergroup          0 2022-04-07 19:30 /user/hive/warehouse/relatorioanualparticionado/ano=1993\r\n",
      "drwxr-xr-x   - root supergroup          0 2022-04-07 19:30 /user/hive/warehouse/relatorioanualparticionado/ano=1994\r\n",
      "drwxr-xr-x   - root supergroup          0 2022-04-07 19:30 /user/hive/warehouse/relatorioanualparticionado/ano=1995\r\n",
      "drwxr-xr-x   - root supergroup          0 2022-04-07 19:30 /user/hive/warehouse/relatorioanualparticionado/ano=1996\r\n",
      "drwxr-xr-x   - root supergroup          0 2022-04-07 19:30 /user/hive/warehouse/relatorioanualparticionado/ano=1997\r\n",
      "drwxr-xr-x   - root supergroup          0 2022-04-07 19:30 /user/hive/warehouse/relatorioanualparticionado/ano=1998\r\n",
      "drwxr-xr-x   - root supergroup          0 2022-04-07 19:30 /user/hive/warehouse/relatorioanualparticionado/ano=1999\r\n",
      "drwxr-xr-x   - root supergroup          0 2022-04-07 19:30 /user/hive/warehouse/relatorioanualparticionado/ano=2000\r\n",
      "drwxr-xr-x   - root supergroup          0 2022-04-07 19:30 /user/hive/warehouse/relatorioanualparticionado/ano=2001\r\n",
      "drwxr-xr-x   - root supergroup          0 2022-04-07 19:30 /user/hive/warehouse/relatorioanualparticionado/ano=2002\r\n",
      "drwxr-xr-x   - root supergroup          0 2022-04-07 19:30 /user/hive/warehouse/relatorioanualparticionado/ano=2003\r\n",
      "drwxr-xr-x   - root supergroup          0 2022-04-07 19:30 /user/hive/warehouse/relatorioanualparticionado/ano=2004\r\n",
      "drwxr-xr-x   - root supergroup          0 2022-04-07 19:30 /user/hive/warehouse/relatorioanualparticionado/ano=2005\r\n",
      "drwxr-xr-x   - root supergroup          0 2022-04-07 19:30 /user/hive/warehouse/relatorioanualparticionado/ano=2006\r\n",
      "drwxr-xr-x   - root supergroup          0 2022-04-07 19:30 /user/hive/warehouse/relatorioanualparticionado/ano=2007\r\n",
      "drwxr-xr-x   - root supergroup          0 2022-04-07 19:30 /user/hive/warehouse/relatorioanualparticionado/ano=2008\r\n",
      "drwxr-xr-x   - root supergroup          0 2022-04-07 19:30 /user/hive/warehouse/relatorioanualparticionado/ano=2009\r\n",
      "drwxr-xr-x   - root supergroup          0 2022-04-07 19:30 /user/hive/warehouse/relatorioanualparticionado/ano=2010\r\n",
      "drwxr-xr-x   - root supergroup          0 2022-04-07 19:30 /user/hive/warehouse/relatorioanualparticionado/ano=2011\r\n",
      "drwxr-xr-x   - root supergroup          0 2022-04-07 19:30 /user/hive/warehouse/relatorioanualparticionado/ano=2012\r\n",
      "drwxr-xr-x   - root supergroup          0 2022-04-07 19:30 /user/hive/warehouse/relatorioanualparticionado/ano=2013\r\n",
      "drwxr-xr-x   - root supergroup          0 2022-04-07 19:30 /user/hive/warehouse/relatorioanualparticionado/ano=2014\r\n",
      "drwxr-xr-x   - root supergroup          0 2022-04-07 19:30 /user/hive/warehouse/relatorioanualparticionado/ano=2015\r\n",
      "drwxr-xr-x   - root supergroup          0 2022-04-07 19:30 /user/hive/warehouse/relatorioanualparticionado/ano=2016\r\n",
      "drwxr-xr-x   - root supergroup          0 2022-04-07 19:30 /user/hive/warehouse/relatorioanualparticionado/ano=2017\r\n",
      "drwxr-xr-x   - root supergroup          0 2022-04-07 19:30 /user/hive/warehouse/relatorioanualparticionado/ano=2018\r\n",
      "drwxr-xr-x   - root supergroup          0 2022-04-07 19:30 /user/hive/warehouse/relatorioanualparticionado/ano=2019\r\n"
     ]
    }
   ],
   "source": [
    "!hdfs dfs -ls /user/hive/warehouse/relatorioanualparticionado"
   ]
  },
  {
   "cell_type": "code",
   "execution_count": null,
   "metadata": {},
   "outputs": [],
   "source": []
  }
 ],
 "metadata": {
  "kernelspec": {
   "display_name": "PySpark",
   "language": "python",
   "name": "pyspark"
  },
  "language_info": {
   "codemirror_mode": {
    "name": "ipython",
    "version": 3
   },
   "file_extension": ".py",
   "mimetype": "text/x-python",
   "name": "python",
   "nbconvert_exporter": "python",
   "pygments_lexer": "ipython3",
   "version": "3.6.10"
  }
 },
 "nbformat": 4,
 "nbformat_minor": 2
}
