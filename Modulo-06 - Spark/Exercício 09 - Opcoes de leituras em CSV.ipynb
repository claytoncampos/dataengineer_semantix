{
 "cells": [
  {
   "cell_type": "code",
   "execution_count": 9,
   "metadata": {},
   "outputs": [],
   "source": [
    "from pyspark.sql import Row"
   ]
  },
  {
   "cell_type": "code",
   "execution_count": 17,
   "metadata": {},
   "outputs": [
    {
     "name": "stdout",
     "output_type": "stream",
     "text": [
      "root\n",
      " |-- cod: long (nullable = true)\n",
      " |-- nome: string (nullable = true)\n",
      "\n",
      "+---+-----------+\n",
      "|cod|       nome|\n",
      "+---+-----------+\n",
      "|  1| 'Clayton' |\n",
      "|  2|  'Campos' |\n",
      "+---+-----------+\n",
      "\n"
     ]
    }
   ],
   "source": [
    "Name = Row(\"cod\", \"nome\")\n",
    "data = [Name(1,\" 'Clayton' \"), Name(2, \" 'Campos' \")]\n",
    "df = spark.createDataFrame(data)\n",
    "df.printSchema()\n",
    "df.show()\n",
    "df.write.csv(\"/user/clayton/teste_csv\",mode=\"overwrite\",header=\"true\")"
   ]
  },
  {
   "cell_type": "code",
   "execution_count": 18,
   "metadata": {},
   "outputs": [
    {
     "name": "stdout",
     "output_type": "stream",
     "text": [
      "Found 6 items\r\n",
      "drwxr-xr-x   - root supergroup          0 2022-04-05 16:11 /user/clayton/data\r\n",
      "drwxr-xr-x   - root supergroup          0 2022-04-05 21:19 /user/clayton/logs_count_word\r\n",
      "drwxr-xr-x   - root supergroup          0 2022-04-06 12:45 /user/clayton/logs_count_word_5\r\n",
      "drwxr-xr-x   - root supergroup          0 2022-04-06 15:07 /user/clayton/names_us_orc\r\n",
      "drwxr-xr-x   - root supergroup          0 2022-04-06 16:26 /user/clayton/names_us_parquet\r\n",
      "drwxr-xr-x   - root supergroup          0 2022-04-06 18:34 /user/clayton/teste_csv\r\n"
     ]
    }
   ],
   "source": [
    "!hdfs dfs -ls /user/clayton"
   ]
  },
  {
   "cell_type": "markdown",
   "metadata": {},
   "source": [
    "Leitura de Dados"
   ]
  },
  {
   "cell_type": "code",
   "execution_count": 32,
   "metadata": {},
   "outputs": [
    {
     "name": "stdout",
     "output_type": "stream",
     "text": [
      "+---+-------+\n",
      "|cod|   nome|\n",
      "+---+-------+\n",
      "|  1|Clayton|\n",
      "|  2| Campos|\n",
      "+---+-------+\n",
      "\n"
     ]
    }
   ],
   "source": [
    "spark.read.csv(\"/user/clayton/teste_csv\", header=\"true\", ignoreLeadingWhiteSpace=\"true\",ignoreTrailingWhiteSpace=\"true\",quote=\"\\'\").show()"
   ]
  },
  {
   "cell_type": "code",
   "execution_count": null,
   "metadata": {},
   "outputs": [],
   "source": []
  }
 ],
 "metadata": {
  "kernelspec": {
   "display_name": "PySpark",
   "language": "python",
   "name": "pyspark"
  },
  "language_info": {
   "codemirror_mode": {
    "name": "ipython",
    "version": 3
   },
   "file_extension": ".py",
   "mimetype": "text/x-python",
   "name": "python",
   "nbconvert_exporter": "python",
   "pygments_lexer": "ipython3",
   "version": "3.6.10"
  }
 },
 "nbformat": 4,
 "nbformat_minor": 2
}
