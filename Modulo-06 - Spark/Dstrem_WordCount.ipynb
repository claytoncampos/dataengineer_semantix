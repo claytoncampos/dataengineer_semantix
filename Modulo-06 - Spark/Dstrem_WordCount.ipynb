{
 "cells": [
  {
   "cell_type": "markdown",
   "metadata": {},
   "source": [
    "### Exercicio SparkStreaming WordCount"
   ]
  },
  {
   "cell_type": "code",
   "execution_count": null,
   "metadata": {},
   "outputs": [],
   "source": [
    "#1. Criar o diretório no hdfs “/user/rodrigo/stream”\n",
    "!hdfs dfs -mkdir /user/clayton/stream"
   ]
  },
  {
   "cell_type": "code",
   "execution_count": 23,
   "metadata": {},
   "outputs": [],
   "source": [
    "from pyspark import SparkContext, SparkConf\n",
    "from pyspark.streaming import StreamingContext\n",
    "from time import sleep\n"
   ]
  },
  {
   "cell_type": "code",
   "execution_count": 24,
   "metadata": {},
   "outputs": [],
   "source": [
    "conf = SparkConf().setMaster(\"local[*]\").setAppName(\"Word Count\")\n",
    "sc = SparkContext.getOrCreate(conf)\n",
    "ssc = StreamingContext(sc, 10)"
   ]
  },
  {
   "cell_type": "code",
   "execution_count": 25,
   "metadata": {},
   "outputs": [],
   "source": [
    "dstream = ssc.socketTextStream(\"localhost\", 9998)\n"
   ]
  },
  {
   "cell_type": "code",
   "execution_count": 26,
   "metadata": {},
   "outputs": [],
   "source": [
    "wordcount = dstream.flatMap(lambda linha: linha.split(\" \"))\\\n",
    "                    .map(lambda palavra: (palavra,1))\\\n",
    "                    .reduceByKey(lambda chave1, chave2: chave1+chave2)\n",
    "wordcount.saveAsTextFiles(\"/user/clayton/stream/word_count\")"
   ]
  },
  {
   "cell_type": "code",
   "execution_count": 27,
   "metadata": {},
   "outputs": [],
   "source": [
    "ssc.start()\n",
    "sleep(50)\n",
    "ssc.stop()"
   ]
  },
  {
   "cell_type": "code",
   "execution_count": 29,
   "metadata": {},
   "outputs": [
    {
     "name": "stdout",
     "output_type": "stream",
     "text": [
      "Found 5 items\r\n",
      "-rw-r--r--   2 root supergroup          0 2022-04-13 18:40 /user/clayton/stream/word_count-1649875210000/_SUCCESS\r\n",
      "-rw-r--r--   2 root supergroup          0 2022-04-13 18:40 /user/clayton/stream/word_count-1649875210000/part-00000\r\n",
      "-rw-r--r--   2 root supergroup          0 2022-04-13 18:40 /user/clayton/stream/word_count-1649875210000/part-00001\r\n",
      "-rw-r--r--   2 root supergroup          0 2022-04-13 18:40 /user/clayton/stream/word_count-1649875210000/part-00002\r\n",
      "-rw-r--r--   2 root supergroup          0 2022-04-13 18:40 /user/clayton/stream/word_count-1649875210000/part-00003\r\n"
     ]
    }
   ],
   "source": [
    "!hdfs dfs -ls /user/clayton/stream/word_count-1649875210000"
   ]
  },
  {
   "cell_type": "code",
   "execution_count": null,
   "metadata": {},
   "outputs": [],
   "source": []
  }
 ],
 "metadata": {
  "kernelspec": {
   "display_name": "PySpark",
   "language": "python",
   "name": "pyspark"
  },
  "language_info": {
   "codemirror_mode": {
    "name": "ipython",
    "version": 3
   },
   "file_extension": ".py",
   "mimetype": "text/x-python",
   "name": "python",
   "nbconvert_exporter": "python",
   "pygments_lexer": "ipython3",
   "version": "3.6.10"
  }
 },
 "nbformat": 4,
 "nbformat_minor": 2
}
