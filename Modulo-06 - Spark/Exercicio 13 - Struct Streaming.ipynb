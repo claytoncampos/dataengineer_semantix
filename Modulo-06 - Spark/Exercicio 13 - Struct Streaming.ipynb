{
 "cells": [
  {
   "cell_type": "markdown",
   "metadata": {},
   "source": [
    "Ler os arquivos csv “hdfs://namenode:8020/user/clayton/data/iris/*.data” em modo streaming com o seguinte schema:\n",
    "\n",
    "    sepal_length float\n",
    "    sepal_width float\n",
    "    petal_length float\n",
    "    petal_width float\n",
    "    class string"
   ]
  },
  {
   "cell_type": "code",
   "execution_count": null,
   "metadata": {},
   "outputs": [],
   "source": [
    "!hdfs dfs -ls /user/clayton/data/iris"
   ]
  },
  {
   "cell_type": "code",
   "execution_count": null,
   "metadata": {},
   "outputs": [],
   "source": [
    "#iris = spark.read.csv(\"/user/clayton/data/iris/*.data\").show(4)"
   ]
  },
  {
   "cell_type": "code",
   "execution_count": null,
   "metadata": {},
   "outputs": [],
   "source": [
    "#lendo com sparkstream\n",
    "from pyspark.sql.types import StructType"
   ]
  },
  {
   "cell_type": "code",
   "execution_count": null,
   "metadata": {},
   "outputs": [],
   "source": [
    "iris_schema = StructType()\\\n",
    "            .add(\"sepal_length\", \"float\")\\\n",
    "            .add(\"sepal_width\", \"float\")\\\n",
    "            .add(\"petal_length\", \"float\")\\\n",
    "            .add(\"petal_width\", \"float\")\\\n",
    "            .add(\"class\",\"string\")"
   ]
  },
  {
   "cell_type": "code",
   "execution_count": null,
   "metadata": {},
   "outputs": [],
   "source": [
    "#ou criar dessa forma a estrutura\n",
    "print(iris_schema)"
   ]
  },
  {
   "cell_type": "code",
   "execution_count": null,
   "metadata": {},
   "outputs": [],
   "source": [
    "iris = spark.readStream.schema(iris_schema).csv(\"/user/clayton/data/iris/*.data\")"
   ]
  },
  {
   "cell_type": "code",
   "execution_count": null,
   "metadata": {},
   "outputs": [],
   "source": [
    "iris.printSchema()"
   ]
  },
  {
   "cell_type": "code",
   "execution_count": null,
   "metadata": {},
   "outputs": [],
   "source": [
    "iris_saida = iris.writeStream.format(\"csv\")\\\n",
    "    .option(\"checkpointLocation\", \"/user/clayton/stream_iris/check\")\\\n",
    "    .option(\"path\", \"/user/clayton/stream_iris/path\")\\\n",
    "    .start()"
   ]
  },
  {
   "cell_type": "code",
   "execution_count": null,
   "metadata": {},
   "outputs": [],
   "source": [
    "iris_saida.status"
   ]
  },
  {
   "cell_type": "code",
   "execution_count": null,
   "metadata": {},
   "outputs": [],
   "source": [
    "!hdfs dfs -ls /user/clayton/stream_iris/path"
   ]
  },
  {
   "cell_type": "code",
   "execution_count": null,
   "metadata": {},
   "outputs": [],
   "source": [
    "spark.read.csv(\"/user/clayton/stream_iris/path/part-00001-cc610d86-ef3d-4120-b105-d8b5170c9196-c000.csv\").count()"
   ]
  },
  {
   "cell_type": "code",
   "execution_count": null,
   "metadata": {},
   "outputs": [],
   "source": []
  }
 ],
 "metadata": {
  "kernelspec": {
   "display_name": "PySpark",
   "language": "python",
   "name": "pyspark"
  },
  "language_info": {
   "codemirror_mode": {
    "name": "ipython",
    "version": 3
   },
   "file_extension": ".py",
   "mimetype": "text/x-python",
   "name": "python",
   "nbconvert_exporter": "python",
   "pygments_lexer": "ipython3",
   "version": "3.6.10"
  }
 },
 "nbformat": 4,
 "nbformat_minor": 2
}
