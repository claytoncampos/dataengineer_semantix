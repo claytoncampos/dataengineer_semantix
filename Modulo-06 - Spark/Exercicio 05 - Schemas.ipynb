{
 "cells": [
  {
   "cell_type": "markdown",
   "metadata": {},
   "source": [
    "### Exercicios - Schemas"
   ]
  },
  {
   "cell_type": "markdown",
   "metadata": {},
   "source": [
    "Criar o DataFrame names_us_sem_schema para ler os arquivos no HDFS “/user/<nome>/data/names”\n",
    "names_us_sem_schema = spark.read.csv(\"/user/clayton/data/names/\")"
   ]
  },
  {
   "cell_type": "code",
   "execution_count": 3,
   "metadata": {},
   "outputs": [
    {
     "name": "stdout",
     "output_type": "stream",
     "text": [
      "lieb,M,5\r\n",
      "Gregorio,M,5\r\n",
      "Gregory,M,5\r\n",
      "Gustavus,M,5\r\n",
      "Halsey,M,5\r\n",
      "Handy,M,5\r\n",
      "Hardie,M,5\r\n",
      "Harl,M,5\r\n",
      "Hayden,M,5\r\n",
      "Hays,M,5\r\n",
      "Hermon,M,5\r\n",
      "Hershel,M,5\r\n",
      "Holly,M,5\r\n",
      "Hosteen,M,5\r\n",
      "Hoyt,M,5\r\n",
      "Hudson,M,5\r\n",
      "Huey,M,5\r\n",
      "Humphrey,M,5\r\n",
      "Hunt,M,5\r\n",
      "Hyrum,M,5\r\n",
      "Irven,M,5\r\n",
      "Isam,M,5\r\n",
      "Ivy,M,5\r\n",
      "Jabez,M,5\r\n",
      "Jewel,M,5\r\n",
      "Jodie,M,5\r\n",
      "Judd,M,5\r\n",
      "Julious,M,5\r\n",
      "Justice,M,5\r\n",
      "Katherine,M,5\r\n",
      "Kelly,M,5\r\n",
      "Kit,M,5\r\n",
      "Knute,M,5\r\n",
      "Lavern,M,5\r\n",
      "Lawyer,M,5\r\n",
      "Layton,M,5\r\n",
      "Leonidas,M,5\r\n",
      "Lewie,M,5\r\n",
      "Lillie,M,5\r\n",
      "Linwood,M,5\r\n",
      "Loran,M,5\r\n",
      "Lorin,M,5\r\n",
      "Mace,M,5\r\n",
      "Malcom,M,5\r\n",
      "Manly,M,5\r\n",
      "Manson,M,5\r\n",
      "Matthias,M,5\r\n",
      "Mattie,M,5\r\n",
      "Merida,M,5\r\n",
      "Miner,M,5\r\n",
      "Montgomery,M,5\r\n",
      "Moroni,M,5\r\n",
      "Murdock,M,5\r\n",
      "Myrtle,M,5\r\n",
      "Nate,M,5\r\n",
      "Nathanial,M,5\r\n",
      "Nimrod,M,5\r\n",
      "Nora,M,5\r\n",
      "Norval,M,5\r\n",
      "Nova,M,5\r\n",
      "Orion,M,5\r\n",
      "Orla,M,5\r\n",
      "Orrie,M,5\r\n",
      "Payton,M,5\r\n",
      "Philo,M,5\r\n",
      "Phineas,M,5\r\n",
      "Presley,M,5\r\n",
      "Ransom,M,5\r\n",
      "Reece,M,5\r\n",
      "Rene,M,5\r\n",
      "Roswell,M,5\r\n",
      "Rowland,M,5\r\n",
      "Sampson,M,5\r\n",
      "Samual,M,5\r\n",
      "Santos,M,5\r\n",
      "Schuyler,M,5\r\n",
      "Sheppard,M,5\r\n",
      "Spurgeon,M,5\r\n",
      "Starling,M,5\r\n",
      "Sylvanus,M,5\r\n",
      "Theadore,M,5\r\n",
      "Theophile,M,5\r\n",
      "Tilmon,M,5\r\n",
      "Tommy,M,5\r\n",
      "Unknown,M,5\r\n",
      "Vann,M,5\r\n",
      "Wes,M,5\r\n",
      "Winston,M,5\r\n",
      "Wood,M,5\r\n",
      "Woodie,M,5\r\n",
      "Worthy,M,5\r\n",
      "Wright,M,5\r\n",
      "York,M,5\r\n",
      "Zachariah,M,5\r\n"
     ]
    }
   ],
   "source": [
    "!hdfs dfs -tail /user/clayton/data/names/yob1880.txt"
   ]
  },
  {
   "cell_type": "code",
   "execution_count": 4,
   "metadata": {},
   "outputs": [],
   "source": [
    "names_us_sem_schema = spark.read.csv(\"/user/clayton/data/names/\")"
   ]
  },
  {
   "cell_type": "markdown",
   "metadata": {},
   "source": [
    "2. Visualizar o Schema e os 5 primeiros registos do names_us_sem_schema"
   ]
  },
  {
   "cell_type": "code",
   "execution_count": 7,
   "metadata": {},
   "outputs": [
    {
     "name": "stdout",
     "output_type": "stream",
     "text": [
      "root\n",
      " |-- _c0: string (nullable = true)\n",
      " |-- _c1: string (nullable = true)\n",
      " |-- _c2: string (nullable = true)\n",
      "\n",
      "None\n",
      "+--------+---+-----+\n",
      "|     _c0|_c1|  _c2|\n",
      "+--------+---+-----+\n",
      "|    Emma|  F|18809|\n",
      "|Isabella|  F|18612|\n",
      "|   Emily|  F|17429|\n",
      "|  Olivia|  F|17078|\n",
      "|     Ava|  F|17035|\n",
      "+--------+---+-----+\n",
      "only showing top 5 rows\n",
      "\n"
     ]
    }
   ],
   "source": [
    "print(names_us_sem_schema.printSchema())\n",
    "names_us_sem_schema.show(5)"
   ]
  },
  {
   "cell_type": "code",
   "execution_count": 8,
   "metadata": {},
   "outputs": [
    {
     "data": {
      "text/plain": [
       "DataFrame[_c0: string, _c1: string, _c2: string]"
      ]
     },
     "execution_count": 8,
     "metadata": {},
     "output_type": "execute_result"
    }
   ],
   "source": [
    "names_us_sem_schema"
   ]
  },
  {
   "cell_type": "markdown",
   "metadata": {},
   "source": [
    "3. Criar o DataFrame names_us para ler os arquivos no HDFS “/user/<nome>/data/names” com o seguinte schema:\n",
    "    nome: String\n",
    "    sexo: String\n",
    "    quantidade: Inteiro"
   ]
  },
  {
   "cell_type": "code",
   "execution_count": 9,
   "metadata": {},
   "outputs": [],
   "source": [
    "from pyspark.sql.types import "
   ]
  },
  {
   "cell_type": "code",
   "execution_count": 14,
   "metadata": {},
   "outputs": [],
   "source": [
    "#criando a estrutura\n",
    "#estrutura_lista = [\n",
    "#    StructField(\"nome\", StringType()),\n",
    "#    StructField(\"sexo\", StringType()),\n",
    "#    StructField(\"quantidade\", IntegerType())\n",
    "#]\n",
    "\n",
    "#schema_name = StructType(estrutura_lista)\n",
    "\n",
    "#ou \n",
    "schema_name = StructType([\n",
    "    StructField(\"nome\", StringType()),\n",
    "    StructField(\"sexo\", StringType()),\n",
    "    StructField(\"quantidade\", IntegerType())\n",
    "])\n",
    "\n"
   ]
  },
  {
   "cell_type": "code",
   "execution_count": 15,
   "metadata": {},
   "outputs": [],
   "source": [
    "names_us = spark.read.csv(\"/user/clayton/data/names\", schema=schema_name)"
   ]
  },
  {
   "cell_type": "code",
   "execution_count": 16,
   "metadata": {},
   "outputs": [
    {
     "name": "stdout",
     "output_type": "stream",
     "text": [
      "root\n",
      " |-- nome: string (nullable = true)\n",
      " |-- sexo: string (nullable = true)\n",
      " |-- quantidade: integer (nullable = true)\n",
      "\n",
      "None\n",
      "+--------+----+----------+\n",
      "|    nome|sexo|quantidade|\n",
      "+--------+----+----------+\n",
      "|    Emma|   F|     18809|\n",
      "|Isabella|   F|     18612|\n",
      "|   Emily|   F|     17429|\n",
      "|  Olivia|   F|     17078|\n",
      "|     Ava|   F|     17035|\n",
      "+--------+----+----------+\n",
      "only showing top 5 rows\n",
      "\n"
     ]
    }
   ],
   "source": [
    "print(names_us.printSchema())\n",
    "names_us.show(5)"
   ]
  },
  {
   "cell_type": "markdown",
   "metadata": {},
   "source": [
    "5. Salvar o DataFrame names_us no formato orc no hdfs “/user/<nome>/names_us_orc”"
   ]
  },
  {
   "cell_type": "code",
   "execution_count": 17,
   "metadata": {},
   "outputs": [],
   "source": [
    "names_us.write.orc(\"/user/clayton/names_us_orc\")"
   ]
  },
  {
   "cell_type": "code",
   "execution_count": 18,
   "metadata": {},
   "outputs": [
    {
     "name": "stdout",
     "output_type": "stream",
     "text": [
      "Found 6 items\r\n",
      "-rw-r--r--   2 root supergroup          0 2022-04-06 15:07 /user/clayton/names_us_orc/_SUCCESS\r\n",
      "-rw-r--r--   2 root supergroup    5373395 2022-04-06 15:07 /user/clayton/names_us_orc/part-00000-e10738fe-57e8-447d-bcee-a28a32f979a9-c000.snappy.orc\r\n",
      "-rw-r--r--   2 root supergroup    2889115 2022-04-06 15:07 /user/clayton/names_us_orc/part-00001-e10738fe-57e8-447d-bcee-a28a32f979a9-c000.snappy.orc\r\n",
      "-rw-r--r--   2 root supergroup    1900448 2022-04-06 15:07 /user/clayton/names_us_orc/part-00002-e10738fe-57e8-447d-bcee-a28a32f979a9-c000.snappy.orc\r\n",
      "-rw-r--r--   2 root supergroup    1026246 2022-04-06 15:07 /user/clayton/names_us_orc/part-00003-e10738fe-57e8-447d-bcee-a28a32f979a9-c000.snappy.orc\r\n",
      "-rw-r--r--   2 root supergroup     101254 2022-04-06 15:07 /user/clayton/names_us_orc/part-00004-e10738fe-57e8-447d-bcee-a28a32f979a9-c000.snappy.orc\r\n"
     ]
    }
   ],
   "source": [
    "!hdfs dfs -ls /user/clayton/names_us_orc"
   ]
  },
  {
   "cell_type": "code",
   "execution_count": null,
   "metadata": {},
   "outputs": [],
   "source": []
  }
 ],
 "metadata": {
  "kernelspec": {
   "display_name": "PySpark",
   "language": "python",
   "name": "pyspark"
  },
  "language_info": {
   "codemirror_mode": {
    "name": "ipython",
    "version": 3
   },
   "file_extension": ".py",
   "mimetype": "text/x-python",
   "name": "python",
   "nbconvert_exporter": "python",
   "pygments_lexer": "ipython3",
   "version": "3.6.10"
  }
 },
 "nbformat": 4,
 "nbformat_minor": 2
}
